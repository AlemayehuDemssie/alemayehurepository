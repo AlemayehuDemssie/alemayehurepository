{
 "cells": [
  {
   "cell_type": "code",
   "execution_count": 163,
   "id": "b5b130b7",
   "metadata": {},
   "outputs": [],
   "source": [
    "from sklearn.model_selection import train_test_split\n",
    "import numpy as np"
   ]
  },
  {
   "cell_type": "code",
   "execution_count": 164,
   "id": "ea7abeb9",
   "metadata": {},
   "outputs": [],
   "source": [
    "from sklearn.datasets import fetch_openml\n",
    "mnist=fetch_openml('mnist_784',version=1)\n",
    "mnist.target = mnist.target.astype(np.uint8)#\n",
    "X_train_val, X_test, y_train_val, y_test = train_test_split(\n",
    "    mnist.data, mnist.target, test_size=10000, random_state=42)\n",
    "X_train, X_val, y_train, y_val = train_test_split(\n",
    "    X_train_val, y_train_val, test_size=10000, random_state=42)"
   ]
  },
  {
   "cell_type": "code",
   "execution_count": 165,
   "id": "80a1be16",
   "metadata": {},
   "outputs": [
    {
     "data": {
      "text/html": [
       "<div>\n",
       "<style scoped>\n",
       "    .dataframe tbody tr th:only-of-type {\n",
       "        vertical-align: middle;\n",
       "    }\n",
       "\n",
       "    .dataframe tbody tr th {\n",
       "        vertical-align: top;\n",
       "    }\n",
       "\n",
       "    .dataframe thead th {\n",
       "        text-align: right;\n",
       "    }\n",
       "</style>\n",
       "<table border=\"1\" class=\"dataframe\">\n",
       "  <thead>\n",
       "    <tr style=\"text-align: right;\">\n",
       "      <th></th>\n",
       "      <th>pixel1</th>\n",
       "      <th>pixel2</th>\n",
       "      <th>pixel3</th>\n",
       "      <th>pixel4</th>\n",
       "      <th>pixel5</th>\n",
       "      <th>pixel6</th>\n",
       "      <th>pixel7</th>\n",
       "      <th>pixel8</th>\n",
       "      <th>pixel9</th>\n",
       "      <th>pixel10</th>\n",
       "      <th>...</th>\n",
       "      <th>pixel775</th>\n",
       "      <th>pixel776</th>\n",
       "      <th>pixel777</th>\n",
       "      <th>pixel778</th>\n",
       "      <th>pixel779</th>\n",
       "      <th>pixel780</th>\n",
       "      <th>pixel781</th>\n",
       "      <th>pixel782</th>\n",
       "      <th>pixel783</th>\n",
       "      <th>pixel784</th>\n",
       "    </tr>\n",
       "  </thead>\n",
       "  <tbody>\n",
       "    <tr>\n",
       "      <th>count</th>\n",
       "      <td>50000.0</td>\n",
       "      <td>50000.0</td>\n",
       "      <td>50000.0</td>\n",
       "      <td>50000.0</td>\n",
       "      <td>50000.0</td>\n",
       "      <td>50000.0</td>\n",
       "      <td>50000.0</td>\n",
       "      <td>50000.0</td>\n",
       "      <td>50000.0</td>\n",
       "      <td>50000.0</td>\n",
       "      <td>...</td>\n",
       "      <td>50000.000000</td>\n",
       "      <td>50000.000000</td>\n",
       "      <td>50000.00000</td>\n",
       "      <td>50000.000000</td>\n",
       "      <td>50000.00000</td>\n",
       "      <td>50000.000000</td>\n",
       "      <td>50000.0</td>\n",
       "      <td>50000.0</td>\n",
       "      <td>50000.0</td>\n",
       "      <td>50000.0</td>\n",
       "    </tr>\n",
       "    <tr>\n",
       "      <th>mean</th>\n",
       "      <td>0.0</td>\n",
       "      <td>0.0</td>\n",
       "      <td>0.0</td>\n",
       "      <td>0.0</td>\n",
       "      <td>0.0</td>\n",
       "      <td>0.0</td>\n",
       "      <td>0.0</td>\n",
       "      <td>0.0</td>\n",
       "      <td>0.0</td>\n",
       "      <td>0.0</td>\n",
       "      <td>...</td>\n",
       "      <td>0.197220</td>\n",
       "      <td>0.096580</td>\n",
       "      <td>0.04014</td>\n",
       "      <td>0.017260</td>\n",
       "      <td>0.01306</td>\n",
       "      <td>0.001240</td>\n",
       "      <td>0.0</td>\n",
       "      <td>0.0</td>\n",
       "      <td>0.0</td>\n",
       "      <td>0.0</td>\n",
       "    </tr>\n",
       "    <tr>\n",
       "      <th>std</th>\n",
       "      <td>0.0</td>\n",
       "      <td>0.0</td>\n",
       "      <td>0.0</td>\n",
       "      <td>0.0</td>\n",
       "      <td>0.0</td>\n",
       "      <td>0.0</td>\n",
       "      <td>0.0</td>\n",
       "      <td>0.0</td>\n",
       "      <td>0.0</td>\n",
       "      <td>0.0</td>\n",
       "      <td>...</td>\n",
       "      <td>5.985178</td>\n",
       "      <td>4.118897</td>\n",
       "      <td>2.58817</td>\n",
       "      <td>1.685615</td>\n",
       "      <td>1.44559</td>\n",
       "      <td>0.277272</td>\n",
       "      <td>0.0</td>\n",
       "      <td>0.0</td>\n",
       "      <td>0.0</td>\n",
       "      <td>0.0</td>\n",
       "    </tr>\n",
       "    <tr>\n",
       "      <th>min</th>\n",
       "      <td>0.0</td>\n",
       "      <td>0.0</td>\n",
       "      <td>0.0</td>\n",
       "      <td>0.0</td>\n",
       "      <td>0.0</td>\n",
       "      <td>0.0</td>\n",
       "      <td>0.0</td>\n",
       "      <td>0.0</td>\n",
       "      <td>0.0</td>\n",
       "      <td>0.0</td>\n",
       "      <td>...</td>\n",
       "      <td>0.000000</td>\n",
       "      <td>0.000000</td>\n",
       "      <td>0.00000</td>\n",
       "      <td>0.000000</td>\n",
       "      <td>0.00000</td>\n",
       "      <td>0.000000</td>\n",
       "      <td>0.0</td>\n",
       "      <td>0.0</td>\n",
       "      <td>0.0</td>\n",
       "      <td>0.0</td>\n",
       "    </tr>\n",
       "    <tr>\n",
       "      <th>25%</th>\n",
       "      <td>0.0</td>\n",
       "      <td>0.0</td>\n",
       "      <td>0.0</td>\n",
       "      <td>0.0</td>\n",
       "      <td>0.0</td>\n",
       "      <td>0.0</td>\n",
       "      <td>0.0</td>\n",
       "      <td>0.0</td>\n",
       "      <td>0.0</td>\n",
       "      <td>0.0</td>\n",
       "      <td>...</td>\n",
       "      <td>0.000000</td>\n",
       "      <td>0.000000</td>\n",
       "      <td>0.00000</td>\n",
       "      <td>0.000000</td>\n",
       "      <td>0.00000</td>\n",
       "      <td>0.000000</td>\n",
       "      <td>0.0</td>\n",
       "      <td>0.0</td>\n",
       "      <td>0.0</td>\n",
       "      <td>0.0</td>\n",
       "    </tr>\n",
       "    <tr>\n",
       "      <th>50%</th>\n",
       "      <td>0.0</td>\n",
       "      <td>0.0</td>\n",
       "      <td>0.0</td>\n",
       "      <td>0.0</td>\n",
       "      <td>0.0</td>\n",
       "      <td>0.0</td>\n",
       "      <td>0.0</td>\n",
       "      <td>0.0</td>\n",
       "      <td>0.0</td>\n",
       "      <td>0.0</td>\n",
       "      <td>...</td>\n",
       "      <td>0.000000</td>\n",
       "      <td>0.000000</td>\n",
       "      <td>0.00000</td>\n",
       "      <td>0.000000</td>\n",
       "      <td>0.00000</td>\n",
       "      <td>0.000000</td>\n",
       "      <td>0.0</td>\n",
       "      <td>0.0</td>\n",
       "      <td>0.0</td>\n",
       "      <td>0.0</td>\n",
       "    </tr>\n",
       "    <tr>\n",
       "      <th>75%</th>\n",
       "      <td>0.0</td>\n",
       "      <td>0.0</td>\n",
       "      <td>0.0</td>\n",
       "      <td>0.0</td>\n",
       "      <td>0.0</td>\n",
       "      <td>0.0</td>\n",
       "      <td>0.0</td>\n",
       "      <td>0.0</td>\n",
       "      <td>0.0</td>\n",
       "      <td>0.0</td>\n",
       "      <td>...</td>\n",
       "      <td>0.000000</td>\n",
       "      <td>0.000000</td>\n",
       "      <td>0.00000</td>\n",
       "      <td>0.000000</td>\n",
       "      <td>0.00000</td>\n",
       "      <td>0.000000</td>\n",
       "      <td>0.0</td>\n",
       "      <td>0.0</td>\n",
       "      <td>0.0</td>\n",
       "      <td>0.0</td>\n",
       "    </tr>\n",
       "    <tr>\n",
       "      <th>max</th>\n",
       "      <td>0.0</td>\n",
       "      <td>0.0</td>\n",
       "      <td>0.0</td>\n",
       "      <td>0.0</td>\n",
       "      <td>0.0</td>\n",
       "      <td>0.0</td>\n",
       "      <td>0.0</td>\n",
       "      <td>0.0</td>\n",
       "      <td>0.0</td>\n",
       "      <td>0.0</td>\n",
       "      <td>...</td>\n",
       "      <td>254.000000</td>\n",
       "      <td>253.000000</td>\n",
       "      <td>253.00000</td>\n",
       "      <td>253.000000</td>\n",
       "      <td>244.00000</td>\n",
       "      <td>62.000000</td>\n",
       "      <td>0.0</td>\n",
       "      <td>0.0</td>\n",
       "      <td>0.0</td>\n",
       "      <td>0.0</td>\n",
       "    </tr>\n",
       "  </tbody>\n",
       "</table>\n",
       "<p>8 rows × 784 columns</p>\n",
       "</div>"
      ],
      "text/plain": [
       "        pixel1   pixel2   pixel3   pixel4   pixel5   pixel6   pixel7   pixel8  \\\n",
       "count  50000.0  50000.0  50000.0  50000.0  50000.0  50000.0  50000.0  50000.0   \n",
       "mean       0.0      0.0      0.0      0.0      0.0      0.0      0.0      0.0   \n",
       "std        0.0      0.0      0.0      0.0      0.0      0.0      0.0      0.0   \n",
       "min        0.0      0.0      0.0      0.0      0.0      0.0      0.0      0.0   \n",
       "25%        0.0      0.0      0.0      0.0      0.0      0.0      0.0      0.0   \n",
       "50%        0.0      0.0      0.0      0.0      0.0      0.0      0.0      0.0   \n",
       "75%        0.0      0.0      0.0      0.0      0.0      0.0      0.0      0.0   \n",
       "max        0.0      0.0      0.0      0.0      0.0      0.0      0.0      0.0   \n",
       "\n",
       "        pixel9  pixel10  ...      pixel775      pixel776     pixel777  \\\n",
       "count  50000.0  50000.0  ...  50000.000000  50000.000000  50000.00000   \n",
       "mean       0.0      0.0  ...      0.197220      0.096580      0.04014   \n",
       "std        0.0      0.0  ...      5.985178      4.118897      2.58817   \n",
       "min        0.0      0.0  ...      0.000000      0.000000      0.00000   \n",
       "25%        0.0      0.0  ...      0.000000      0.000000      0.00000   \n",
       "50%        0.0      0.0  ...      0.000000      0.000000      0.00000   \n",
       "75%        0.0      0.0  ...      0.000000      0.000000      0.00000   \n",
       "max        0.0      0.0  ...    254.000000    253.000000    253.00000   \n",
       "\n",
       "           pixel778     pixel779      pixel780  pixel781  pixel782  pixel783  \\\n",
       "count  50000.000000  50000.00000  50000.000000   50000.0   50000.0   50000.0   \n",
       "mean       0.017260      0.01306      0.001240       0.0       0.0       0.0   \n",
       "std        1.685615      1.44559      0.277272       0.0       0.0       0.0   \n",
       "min        0.000000      0.00000      0.000000       0.0       0.0       0.0   \n",
       "25%        0.000000      0.00000      0.000000       0.0       0.0       0.0   \n",
       "50%        0.000000      0.00000      0.000000       0.0       0.0       0.0   \n",
       "75%        0.000000      0.00000      0.000000       0.0       0.0       0.0   \n",
       "max      253.000000    244.00000     62.000000       0.0       0.0       0.0   \n",
       "\n",
       "       pixel784  \n",
       "count   50000.0  \n",
       "mean        0.0  \n",
       "std         0.0  \n",
       "min         0.0  \n",
       "25%         0.0  \n",
       "50%         0.0  \n",
       "75%         0.0  \n",
       "max         0.0  \n",
       "\n",
       "[8 rows x 784 columns]"
      ]
     },
     "execution_count": 165,
     "metadata": {},
     "output_type": "execute_result"
    }
   ],
   "source": [
    "#X, y = mnist[\"data\"], mnist[\"target\"]\n",
    "X_train.describe()"
   ]
  },
  {
   "cell_type": "code",
   "execution_count": 325,
   "id": "49344ab9",
   "metadata": {},
   "outputs": [],
   "source": [
    "from sklearn.ensemble import RandomForestClassifier, ExtraTreesClassifier\n",
    "from sklearn.svm import LinearSVC\n",
    "from sklearn.neural_network import MLPClassifier "
   ]
  },
  {
   "cell_type": "code",
   "execution_count": 326,
   "id": "65dea1c1",
   "metadata": {},
   "outputs": [],
   "source": [
    "random_forest_clf = RandomForestClassifier(n_estimators=100, random_state=42)\n",
    "extra_trees_clf = ExtraTreesClassifier(n_estimators=100, random_state=42)\n",
    "svm_clf = LinearSVC(max_iter=100, tol=20, random_state=42)\n",
    "mlp_clf = MLPClassifier(random_state=42)"
   ]
  },
  {
   "cell_type": "code",
   "execution_count": 327,
   "id": "e12b925a",
   "metadata": {},
   "outputs": [
    {
     "name": "stdout",
     "output_type": "stream",
     "text": [
      "Training the RandomForestClassifier(random_state=42)\n",
      "Training the ExtraTreesClassifier(random_state=42)\n",
      "Training the LinearSVC(max_iter=100, random_state=42, tol=20)\n",
      "Training the MLPClassifier(random_state=42)\n"
     ]
    }
   ],
   "source": [
    "estimators = [random_forest_clf, extra_trees_clf, svm_clf, mlp_clf]\n",
    "for estimator in estimators:\n",
    "    print(\"Training the\", estimator)\n",
    "    estimator.fit(X_train, y_train)"
   ]
  },
  {
   "cell_type": "code",
   "execution_count": 328,
   "id": "be5eff53",
   "metadata": {},
   "outputs": [
    {
     "data": {
      "text/plain": [
       "[0.9692, 0.9715, 0.859, 0.9649]"
      ]
     },
     "execution_count": 328,
     "metadata": {},
     "output_type": "execute_result"
    }
   ],
   "source": [
    "[estimator.score(X_val, y_val) for estimator in estimators]"
   ]
  },
  {
   "cell_type": "markdown",
   "id": "b4a99151",
   "metadata": {},
   "source": [
    "# As we can see above Linear support vector machine classifier has the worest performance when compared with the other three models indevidualy. it has a score of 85.9%. MLP classifier is the second worest perfoming model but it is much better than Linear SVC.MLP scores 96.49% score . Radnom forest is the third with 96.92% score and Extra Trees Calssifer is the  best model relatively with score of 97.15%. We can see what thier performance as below with a barchart. Extra trees>Random forest>Mpl > svm. The purpose of ensemble method is putting those low performance models together to have a model with better accuracy. In ensemble methods when multiple models put together the collective performance is proven to be better than the indevidual models performance. But Based on my observation It is not always true. soft voting scores 97.14% which is a little less than the best model extra trees which scores  97.15%. This is because one of the models might hurt the ensembe instead of improving the performance.So we can remove hurting model.  "
   ]
  },
  {
   "cell_type": "code",
   "execution_count": 342,
   "id": "126839a3",
   "metadata": {},
   "outputs": [
    {
     "data": {
      "image/png": "[encoded data removed]",
      "text/plain": [
       "<Figure size 432x288 with 1 Axes>"
      ]
     },
     "metadata": {
      "needs_background": "light"
     },
     "output_type": "display_data"
    }
   ],
   "source": [
    "fig = plt.figure()\n",
    "ax = fig.add_axes([0,0,1.5,1.5])\n",
    "plt.ylim(ymin=0.85)\n",
    "plt.ylim(ymax=0.973)\n",
    "plt.ylabel(\"Score\",fontsize=18)\n",
    "plt.xlabel(\"Classifier \",fontsize=18)\n",
    "classifiers = ['mpl_clf_score', 'random_forest_clf', 'extra_trees_clf','svm_clf']\n",
    "score = [mlp_clf.score(X_val,y_val),random_forest_clf.score(X_val,y_val),extra_trees_clf.score(X_val,y_val),svm_clf.score(X_val,y_val)]\n",
    "ax.bar(classifiers,score)\n",
    "plt.yticks(np.arange(0.85, 0.973, 0.0125))\n",
    "plt.grid()\n",
    "plt.show()"
   ]
  },
  {
   "cell_type": "code",
   "execution_count": 343,
   "id": "3a417d1a",
   "metadata": {},
   "outputs": [],
   "source": [
    "from sklearn.ensemble import VotingClassifier\n",
    "named_estimators = [\n",
    "    (\"random_forest_clf\", random_forest_clf),\n",
    "    (\"extra_trees_clf\", extra_trees_clf),\n",
    "    (\"svm_clf\", svm_clf),\n",
    "    (\"mlp_clf\", mlp_clf),\n",
    "]"
   ]
  },
  {
   "cell_type": "code",
   "execution_count": 344,
   "id": "068af625",
   "metadata": {},
   "outputs": [],
   "source": [
    "voting_clf = VotingClassifier(named_estimators)"
   ]
  },
  {
   "cell_type": "code",
   "execution_count": 345,
   "id": "596e2077",
   "metadata": {},
   "outputs": [
    {
     "data": {
      "text/plain": [
       "VotingClassifier(estimators=[('random_forest_clf',\n",
       "                              RandomForestClassifier(random_state=42)),\n",
       "                             ('extra_trees_clf',\n",
       "                              ExtraTreesClassifier(random_state=42)),\n",
       "                             ('svm_clf',\n",
       "                              LinearSVC(max_iter=100, random_state=42, tol=20)),\n",
       "                             ('mlp_clf', MLPClassifier(random_state=42))])"
      ]
     },
     "execution_count": 345,
     "metadata": {},
     "output_type": "execute_result"
    }
   ],
   "source": [
    "voting_clf.fit(X_train, y_train)"
   ]
  },
  {
   "cell_type": "code",
   "execution_count": 346,
   "id": "4b7aa7f0",
   "metadata": {},
   "outputs": [
    {
     "data": {
      "text/plain": [
       "0.9708"
      ]
     },
     "execution_count": 346,
     "metadata": {},
     "output_type": "execute_result"
    }
   ],
   "source": [
    "voting_clf.score(X_val,y_val)"
   ]
  },
  {
   "cell_type": "code",
   "execution_count": 347,
   "id": "e8630181",
   "metadata": {},
   "outputs": [
    {
     "data": {
      "text/plain": [
       "[('random_forest_clf', RandomForestClassifier(random_state=42)),\n",
       " ('extra_trees_clf', ExtraTreesClassifier(random_state=42)),\n",
       " ('svm_clf', LinearSVC(max_iter=100, random_state=42, tol=20)),\n",
       " ('mlp_clf', MLPClassifier(random_state=42))]"
      ]
     },
     "execution_count": 347,
     "metadata": {},
     "output_type": "execute_result"
    }
   ],
   "source": [
    "voting_clf.estimators"
   ]
  },
  {
   "cell_type": "code",
   "execution_count": 348,
   "id": "ed6514b9",
   "metadata": {},
   "outputs": [
    {
     "data": {
      "text/plain": [
       "[RandomForestClassifier(random_state=42),\n",
       " ExtraTreesClassifier(random_state=42),\n",
       " LinearSVC(max_iter=100, random_state=42, tol=20),\n",
       " MLPClassifier(random_state=42)]"
      ]
     },
     "execution_count": 348,
     "metadata": {},
     "output_type": "execute_result"
    }
   ],
   "source": [
    "voting_clf.estimators_"
   ]
  },
  {
   "cell_type": "markdown",
   "id": "ce2af1f9",
   "metadata": {},
   "source": [
    "# As we can see above the score of the ensemble is less than the extra treee classifier so lets delete Linear SVC from the ensemble and check if the performace increases"
   ]
  },
  {
   "cell_type": "code",
   "execution_count": 349,
   "id": "55f0ab16",
   "metadata": {},
   "outputs": [],
   "source": [
    "del voting_clf.estimators_[2]"
   ]
  },
  {
   "cell_type": "code",
   "execution_count": 351,
   "id": "42a42500",
   "metadata": {},
   "outputs": [
    {
     "data": {
      "text/plain": [
       "0.9736"
      ]
     },
     "execution_count": 351,
     "metadata": {},
     "output_type": "execute_result"
    }
   ],
   "source": [
    " voting_clf.score(X_val, y_val)"
   ]
  },
  {
   "cell_type": "markdown",
   "id": "a94c5469",
   "metadata": {},
   "source": [
    "# The score increases from 0.9708 to 0.9736 by removing Linear SVC."
   ]
  },
  {
   "cell_type": "code",
   "execution_count": 381,
   "id": "07edfc03",
   "metadata": {},
   "outputs": [],
   "source": [
    "voting_clf.voting = \"soft\""
   ]
  },
  {
   "cell_type": "code",
   "execution_count": 382,
   "id": "d86ae6a0",
   "metadata": {},
   "outputs": [
    {
     "data": {
      "text/plain": [
       "0.9714"
      ]
     },
     "execution_count": 382,
     "metadata": {},
     "output_type": "execute_result"
    }
   ],
   "source": [
    "soft_voting_score=voting_clf.score(X_val, y_val)\n",
    "soft_voting_score"
   ]
  },
  {
   "cell_type": "code",
   "execution_count": 383,
   "id": "7b36832b",
   "metadata": {},
   "outputs": [
    {
     "data": {
      "image/png": "[encoded data removed]",
      "text/plain": [
       "<Figure size 432x288 with 1 Axes>"
      ]
     },
     "metadata": {
      "needs_background": "light"
     },
     "output_type": "display_data"
    }
   ],
   "source": [
    "fig = plt.figure()\n",
    "ax = fig.add_axes([0,0,1.5,1.5])\n",
    "plt.ylim(ymin=0.85)\n",
    "plt.ylim(ymax=0.973)\n",
    "plt.ylabel(\"Score\",fontsize=18)\n",
    "plt.xlabel(\"Classifier \",fontsize=18)\n",
    "classifiers = ['mpl_clf_score', 'random_forest_clf', 'extra_trees_clf','soft_voting_clf','svm_clf']\n",
    "score = [mlp_clf.score(X_val,y_val),random_forest_clf.score(X_val,y_val),extra_trees_clf.score(X_val,y_val),soft_voting_score,svm_clf.score(X_val,y_val)]\n",
    "ax.bar(classifiers,score)\n",
    "plt.yticks(np.arange(0.85, 0.973, 0.0125))\n",
    "plt.grid()\n",
    "plt.show()"
   ]
  },
  {
   "cell_type": "markdown",
   "id": "ae8f02c3",
   "metadata": {},
   "source": [
    "# Soft voting is not a good option here It performs better than MPL and Random forest but it has very close perfromace to extra trees classifier. Even a little lesser than extra trees performance. Extra tree scores 0.9715 where as Soft voting scores 0.9714. Soft voting predicts the class with the highest class probablity averaged over all the indevidual classifiers."
   ]
  },
  {
   "cell_type": "code",
   "execution_count": 384,
   "id": "c4f4cb2f",
   "metadata": {},
   "outputs": [
    {
     "data": {
      "text/plain": [
       "0.9689"
      ]
     },
     "execution_count": 384,
     "metadata": {},
     "output_type": "execute_result"
    }
   ],
   "source": [
    "from sklearn.metrics import accuracy_score\n",
    "hard_voting_clf=accuracy_score(voting_clf.predict(X_test),y_test)\n",
    "hard_voting_clf#Soft voting accuracy score not the same as score "
   ]
  },
  {
   "cell_type": "code",
   "execution_count": 385,
   "id": "5be6fb07",
   "metadata": {},
   "outputs": [
    {
     "data": {
      "text/plain": [
       "0.9736"
      ]
     },
     "execution_count": 385,
     "metadata": {},
     "output_type": "execute_result"
    }
   ],
   "source": [
    "voting_clf.voting = \"hard\"\n",
    "hard_voting_score=voting_clf.score(X_val, y_val)\n",
    "hard_voting_score"
   ]
  },
  {
   "cell_type": "code",
   "execution_count": 387,
   "id": "652decd1",
   "metadata": {},
   "outputs": [
    {
     "data": {
      "image/png": "[encoded data removed]",
      "text/plain": [
       "<Figure size 432x288 with 1 Axes>"
      ]
     },
     "metadata": {
      "needs_background": "light"
     },
     "output_type": "display_data"
    }
   ],
   "source": [
    "fig = plt.figure()\n",
    "ax = fig.add_axes([0,0,1.5,1.5])\n",
    "plt.ylim(ymin=0.85)\n",
    "plt.ylim(ymax=0.980)\n",
    "plt.ylabel(\"Score\",fontsize=18)\n",
    "plt.xlabel(\"Classifier \",fontsize=18)\n",
    "classifiers = ['mpl_clf_score', 'random_forest_clf', 'extra_trees_clf','soft_voting_clf','svm_clf','hard_voting_clf']\n",
    "score = [mlp_clf.score(X_val,y_val),random_forest_clf.score(X_val,y_val),extra_trees_clf.score(X_val,y_val),soft_voting_score,svm_clf.score(X_val,y_val),hard_voting_score]\n",
    "ax.bar(classifiers,score)\n",
    "plt.yticks(np.arange(0.85, 0.980, 0.0125))\n",
    "plt.grid()\n",
    "plt.show()"
   ]
  },
  {
   "cell_type": "markdown",
   "id": "3d91c331",
   "metadata": {},
   "source": [
    "# Soft voting scores 0.9714 and hard voting scores 0.9736 wich shows that hard voting is better than soft voting in this case. This score is on evaluation sets the following is the score on Test sets.From the above chart we can tell that hard voting has the best performance over the indeviduals models and soft voting."
   ]
  },
  {
   "cell_type": "code",
   "execution_count": 391,
   "id": "9267d431",
   "metadata": {},
   "outputs": [
    {
     "data": {
      "text/plain": [
       "0.9705"
      ]
     },
     "execution_count": 391,
     "metadata": {},
     "output_type": "execute_result"
    }
   ],
   "source": [
    "hard_voting_clf=voting_clf.score(X_test,y_test)\n",
    "hard_voting_clf"
   ]
  },
  {
   "cell_type": "code",
   "execution_count": 376,
   "id": "eb018c91",
   "metadata": {},
   "outputs": [
    {
     "data": {
      "text/plain": [
       "[0.9645, 0.9691, 0.9633]"
      ]
     },
     "execution_count": 376,
     "metadata": {},
     "output_type": "execute_result"
    }
   ],
   "source": [
    "[estimator.score(X_test, y_test) for estimator in voting_clf.estimators_]"
   ]
  },
  {
   "cell_type": "code",
   "execution_count": 187,
   "id": "8bd1fea8",
   "metadata": {},
   "outputs": [],
   "source": [
    "import matplotlib.pyplot as plt\n",
    "import numpy as np\n",
    "from sklearn import metrics, model_selection\n",
    " "
   ]
  },
  {
   "cell_type": "code",
   "execution_count": 188,
   "id": "900cd76b",
   "metadata": {},
   "outputs": [
    {
     "name": "stdout",
     "output_type": "stream",
     "text": [
      "Validation MSE 1.0060045\n"
     ]
    }
   ],
   "source": [
    "import xgboost\n",
    "from sklearn.metrics import mean_squared_error\n",
    "if xgboost is  not None:\n",
    "    xgb_reg=xgboost.XGBRegressor(random_state=42)# Xgboost Regressor\n",
    "    xgb_reg.fit(X_train, y_train)\n",
    "    y_pred=xgb_reg.predict(X_val)\n",
    "    val_error=mean_squared_error(y_val, y_pred)\n",
    "    print(\"Validation MSE\",val_error)"
   ]
  },
  {
   "cell_type": "code",
   "execution_count": 189,
   "id": "b868eb0a",
   "metadata": {
    "scrolled": true
   },
   "outputs": [
    {
     "data": {
      "text/plain": [
       "0.8771582425970497"
      ]
     },
     "execution_count": 189,
     "metadata": {},
     "output_type": "execute_result"
    }
   ],
   "source": [
    " xgb_reg.score(X_test,y_test)"
   ]
  },
  {
   "cell_type": "code",
   "execution_count": 190,
   "id": "b89279be",
   "metadata": {},
   "outputs": [
    {
     "name": "stdout",
     "output_type": "stream",
     "text": [
      "[13:51:30] WARNING: ../src/learner.cc:1095: Starting in XGBoost 1.3.0, the default evaluation metric used with the objective 'multi:softprob' was changed from 'merror' to 'mlogloss'. Explicitly set eval_metric if you'd like to restore the old behavior.\n"
     ]
    },
    {
     "data": {
      "text/plain": [
       "XGBClassifier(base_score=0.5, booster='gbtree', colsample_bylevel=1,\n",
       "              colsample_bynode=1, colsample_bytree=1, gamma=0, gpu_id=-1,\n",
       "              importance_type='gain', interaction_constraints='',\n",
       "              learning_rate=0.300000012, max_delta_step=0, max_depth=6,\n",
       "              min_child_weight=1, missing=nan, monotone_constraints='()',\n",
       "              n_estimators=100, n_jobs=4, num_parallel_tree=1,\n",
       "              objective='multi:softprob', random_state=0, reg_alpha=0,\n",
       "              reg_lambda=1, scale_pos_weight=None, subsample=1,\n",
       "              tree_method='exact', use_label_encoder=False,\n",
       "              validate_parameters=1, verbosity=None)"
      ]
     },
     "execution_count": 190,
     "metadata": {},
     "output_type": "execute_result"
    }
   ],
   "source": [
    "from xgboost import XGBClassifier\n",
    "clf1=mlp_clf\n",
    "clf2=random_forest_clf\n",
    "cllf3=extra_trees_clf\n",
    "clf4=XGBClassifier(use_label_encoder =False) #xgboost classifier This is our focuse \n",
    "clf4.fit(X_train,y_train)\n"
   ]
  },
  {
   "cell_type": "code",
   "execution_count": 388,
   "id": "816a1a56",
   "metadata": {},
   "outputs": [],
   "source": [
    "y_pred_clf1=clf1.predict(X_test)\n",
    "y_pred_clf2=clf2.predict(X_test)\n",
    "y_pred_clf3=cllf3.predict(X_test)\n",
    "y_predd_clf4=clf4.predict(X_test)\n"
   ]
  },
  {
   "cell_type": "markdown",
   "id": "5aa55bd3",
   "metadata": {},
   "source": [
    "# The following is the accuracy score on the test sets y_predicted over y_yest based on each classifier and ensembles.  "
   ]
  },
  {
   "cell_type": "code",
   "execution_count": 392,
   "id": "cc9ed7b1",
   "metadata": {},
   "outputs": [
    {
     "name": "stdout",
     "output_type": "stream",
     "text": [
      "mpl_clf_score 0.9633\n",
      "random_forest_clf 0.9645\n",
      "extra_trees_clf 0.9691\n",
      "XGBClassifier_clf 0.9739\n",
      "hard_voting_clf 0.9705\n",
      "soft_voting_clf 0.9705\n"
     ]
    }
   ],
   "source": [
    "from sklearn.metrics import accuracy_score\n",
    "print(\"mpl_clf_score\",accuracy_score(y_pred_clf1,y_test))\n",
    "print(\"random_forest_clf\",accuracy_score(y_pred_clf2,y_test))\n",
    "print(\"extra_trees_clf\",accuracy_score(y_pred_clf3,y_test))\n",
    "print(\"XGBClassifier_clf\",accuracy_score(y_predd_clf4,y_test))\n",
    "print(\"hard_voting_clf\",hard_voting_clf)# hard_voting accuracy score calculated before\n",
    "print(\"soft_voting_clf\",soft_voting_clf)# soft_voting accuracy score calculated before"
   ]
  },
  {
   "cell_type": "code",
   "execution_count": 396,
   "id": "9b6c465d",
   "metadata": {},
   "outputs": [
    {
     "data": {
      "text/plain": [
       "0.9777"
      ]
     },
     "execution_count": 396,
     "metadata": {},
     "output_type": "execute_result"
    }
   ],
   "source": [
    "clf4.score(X_val,y_val)# clf4 is XGBoost classifier"
   ]
  },
  {
   "cell_type": "code",
   "execution_count": 395,
   "id": "9e0f3cd3",
   "metadata": {},
   "outputs": [
    {
     "data": {
      "image/png": "[encoded data removed]",
      "text/plain": [
       "<Figure size 432x288 with 1 Axes>"
      ]
     },
     "metadata": {
      "needs_background": "light"
     },
     "output_type": "display_data"
    }
   ],
   "source": [
    "fig = plt.figure()\n",
    "ax = fig.add_axes([0,0,1.5,1.5])\n",
    "plt.ylim(ymin=0.96)\n",
    "plt.ylim(ymax=0.98)\n",
    "plt.ylabel(\"Accuracy Score\",fontsize=18)\n",
    "plt.xlabel(\"Classifier \",fontsize=18)\n",
    "classifiers = ['mlp_clf_score', 'random_forest_clf', 'extra_trees_clf', 'XGBClassifier_clf','soft_voting_clf','hard_voting_clf']\n",
    "score = [mlp_clf.score(X_val,y_val),random_forest_clf.score(X_val,y_val),extra_trees_clf.score(X_val,y_val),clf4.score(X_val,y_val),soft_voting_score,hard_voting_score]\n",
    "ax.bar(classifiers,score)\n",
    "plt.yticks(np.arange(0.96, 0.98, 0.001))\n",
    "plt.grid()\n",
    "plt.show()\n"
   ]
  },
  {
   "cell_type": "markdown",
   "id": "61cc3f65",
   "metadata": {},
   "source": [
    "# As we can see from the above bar chart xgboost classifier has the highest score among the other three separate classifiers as well as hard and soft voting ensmble methods. Numerically XGBClassifier scores 0.9777 which is 97.77% accuracy score over the validation sets and 0.9739 / 97.39 % over the test sets which is The highest score when compared with the others."
   ]
  },
  {
   "cell_type": "code",
   "execution_count": null,
   "id": "0d3b52d2",
   "metadata": {},
   "outputs": [],
   "source": []
  }
 ],
 "metadata": {
  "kernelspec": {
   "display_name": "Python 3",
   "language": "python",
   "name": "python3"
  },
  "language_info": {
   "codemirror_mode": {
    "name": "ipython",
    "version": 3
   },
   "file_extension": ".py",
   "mimetype": "text/x-python",
   "name": "python",
   "nbconvert_exporter": "python",
   "pygments_lexer": "ipython3",
   "version": "3.8.8"
  }
 },
 "nbformat": 4,
 "nbformat_minor": 5
}
